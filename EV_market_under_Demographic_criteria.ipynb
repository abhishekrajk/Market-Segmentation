{
  "cells": [
    {
      "cell_type": "markdown",
      "metadata": {
        "id": "view-in-github",
        "colab_type": "text"
      },
      "source": [
        "<a href=\"https://colab.research.google.com/github/abhishekrajk/Market-Segmentation/blob/main/EV_market_under_Demographic_criteria.ipynb\" target=\"_parent\"><img src=\"https://colab.research.google.com/assets/colab-badge.svg\" alt=\"Open In Colab\"/></a>"
      ]
    },
    {
      "cell_type": "markdown",
      "source": [
        "**EV_market_under_Demographic_criteria**"
      ],
      "metadata": {
        "id": "lLd7SOSF2sNY"
      }
    },
    {
      "cell_type": "code",
      "execution_count": 66,
      "metadata": {
        "id": "rlKNb29HoyN6"
      },
      "outputs": [],
      "source": [
        "import pandas as pd\n",
        "import numpy as np\n",
        "from sklearn.cluster import KMeans\n",
        "from sklearn.preprocessing import StandardScaler, OneHotEncoder\n",
        "from sklearn.preprocessing import LabelEncoder"
      ]
    },
    {
      "cell_type": "code",
      "execution_count": 67,
      "metadata": {
        "id": "51_uDBfLmjOI"
      },
      "outputs": [],
      "source": [
        "dataset = pd.read_csv(r\"/content/Final Dataset-EV.csv\")"
      ]
    },
    {
      "cell_type": "code",
      "execution_count": 68,
      "metadata": {
        "colab": {
          "base_uri": "https://localhost:8080/"
        },
        "id": "FiDM1fzWpG9-",
        "outputId": "3fc787f9-4b57-4d0e-efcc-13c5d471e3ea"
      },
      "outputs": [
        {
          "output_type": "stream",
          "name": "stdout",
          "text": [
            "Index(['Unnamed: 0', 'Brand', 'Model', 'AccelSec', 'TopSpeed_KmH', 'Range_Km',\n",
            "       'Efficiency_WhKm', 'FastCharge_KmH', 'RapidCharge', 'PlugType',\n",
            "       'BodyStyle', 'Segment', 'Seats', 'PriceRupees'],\n",
            "      dtype='object')\n",
            "(103, 14)\n",
            "   Unnamed: 0        Brand                          Model  AccelSec  \\\n",
            "0           0       Tesla   Model 3 Long Range Dual Motor         5   \n",
            "1           1  Volkswagen                       ID.3 Pure        10   \n",
            "2           2    Polestar                               2         5   \n",
            "3           3         BMW                            iX3          7   \n",
            "4           4       Honda                              e         10   \n",
            "5           5       Lucid                            Air          3   \n",
            "6           6  Volkswagen                         e-Golf         10   \n",
            "7           7     Peugeot                          e-208          8   \n",
            "8           8       Tesla     Model 3 Standard Range Plus         6   \n",
            "9           9        Audi                      Q4 e-tron          6   \n",
            "\n",
            "   TopSpeed_KmH  Range_Km  Efficiency_WhKm  FastCharge_KmH RapidCharge  \\\n",
            "0           233       450              161             940         Yes   \n",
            "1           160       270              167             250          No   \n",
            "2           210       400              181             620         Yes   \n",
            "3           180       360              206             560         Yes   \n",
            "4           145       170              168             190         Yes   \n",
            "5           250       610              180             620         Yes   \n",
            "6           150       190              168             220          No   \n",
            "7           150       275              164             420          No   \n",
            "8           225       310              153             650         Yes   \n",
            "9           180       400              193             540         Yes   \n",
            "\n",
            "     PlugType  BodyStyle Segment  Seats  PriceRupees  \n",
            "0  Type 2 CCS      Sedan       D      5   5024879.08  \n",
            "1  Type 2 CCS  Hatchback       C      5   2717130.00  \n",
            "2  Type 2 CCS   Liftback       D      5   5111827.24  \n",
            "3  Type 2 CCS        SUV       D      5   6162450.84  \n",
            "4  Type 2 CCS  Hatchback       B      4   2988571.29  \n",
            "5  Type 2 CCS      Sedan       F      5   9509955.00  \n",
            "6  Type 2 CCS  Hatchback       C      5   2889214.90  \n",
            "7  Type 2 CCS  Hatchback       B      5   2688328.42  \n",
            "8  Type 2 CCS      Sedan       D      5   4200682.98  \n",
            "9  Type 2 CCS        SUV       D      5   4981405.00  \n"
          ]
        }
      ],
      "source": [
        "print(dataset.columns)\n",
        "print(dataset.shape)\n",
        "print(dataset.head(10))"
      ]
    },
    {
      "cell_type": "code",
      "execution_count": 69,
      "metadata": {
        "colab": {
          "base_uri": "https://localhost:8080/",
          "height": 354
        },
        "id": "DIyHB5Imveje",
        "outputId": "b90d1073-a085-471d-e205-6f4dc211456d"
      },
      "outputs": [
        {
          "output_type": "execute_result",
          "data": {
            "text/plain": [
              "   Unnamed: 0        Brand                          Model  AccelSec  \\\n",
              "0           0       Tesla   Model 3 Long Range Dual Motor         5   \n",
              "1           1  Volkswagen                       ID.3 Pure        10   \n",
              "2           2    Polestar                               2         5   \n",
              "3           3         BMW                            iX3          7   \n",
              "4           4       Honda                              e         10   \n",
              "\n",
              "   TopSpeed_KmH  Range_Km  Efficiency_WhKm  FastCharge_KmH RapidCharge  \\\n",
              "0           233       450              161             940         Yes   \n",
              "1           160       270              167             250          No   \n",
              "2           210       400              181             620         Yes   \n",
              "3           180       360              206             560         Yes   \n",
              "4           145       170              168             190         Yes   \n",
              "\n",
              "     PlugType  BodyStyle Segment  Seats  PriceRupees  \n",
              "0  Type 2 CCS      Sedan       D      5   5024879.08  \n",
              "1  Type 2 CCS  Hatchback       C      5   2717130.00  \n",
              "2  Type 2 CCS   Liftback       D      5   5111827.24  \n",
              "3  Type 2 CCS        SUV       D      5   6162450.84  \n",
              "4  Type 2 CCS  Hatchback       B      4   2988571.29  "
            ],
            "text/html": [
              "\n",
              "\n",
              "  <div id=\"df-ba1e0769-4f18-43cc-bd22-570ebea83ff6\">\n",
              "    <div class=\"colab-df-container\">\n",
              "      <div>\n",
              "<style scoped>\n",
              "    .dataframe tbody tr th:only-of-type {\n",
              "        vertical-align: middle;\n",
              "    }\n",
              "\n",
              "    .dataframe tbody tr th {\n",
              "        vertical-align: top;\n",
              "    }\n",
              "\n",
              "    .dataframe thead th {\n",
              "        text-align: right;\n",
              "    }\n",
              "</style>\n",
              "<table border=\"1\" class=\"dataframe\">\n",
              "  <thead>\n",
              "    <tr style=\"text-align: right;\">\n",
              "      <th></th>\n",
              "      <th>Unnamed: 0</th>\n",
              "      <th>Brand</th>\n",
              "      <th>Model</th>\n",
              "      <th>AccelSec</th>\n",
              "      <th>TopSpeed_KmH</th>\n",
              "      <th>Range_Km</th>\n",
              "      <th>Efficiency_WhKm</th>\n",
              "      <th>FastCharge_KmH</th>\n",
              "      <th>RapidCharge</th>\n",
              "      <th>PlugType</th>\n",
              "      <th>BodyStyle</th>\n",
              "      <th>Segment</th>\n",
              "      <th>Seats</th>\n",
              "      <th>PriceRupees</th>\n",
              "    </tr>\n",
              "  </thead>\n",
              "  <tbody>\n",
              "    <tr>\n",
              "      <th>0</th>\n",
              "      <td>0</td>\n",
              "      <td>Tesla</td>\n",
              "      <td>Model 3 Long Range Dual Motor</td>\n",
              "      <td>5</td>\n",
              "      <td>233</td>\n",
              "      <td>450</td>\n",
              "      <td>161</td>\n",
              "      <td>940</td>\n",
              "      <td>Yes</td>\n",
              "      <td>Type 2 CCS</td>\n",
              "      <td>Sedan</td>\n",
              "      <td>D</td>\n",
              "      <td>5</td>\n",
              "      <td>5024879.08</td>\n",
              "    </tr>\n",
              "    <tr>\n",
              "      <th>1</th>\n",
              "      <td>1</td>\n",
              "      <td>Volkswagen</td>\n",
              "      <td>ID.3 Pure</td>\n",
              "      <td>10</td>\n",
              "      <td>160</td>\n",
              "      <td>270</td>\n",
              "      <td>167</td>\n",
              "      <td>250</td>\n",
              "      <td>No</td>\n",
              "      <td>Type 2 CCS</td>\n",
              "      <td>Hatchback</td>\n",
              "      <td>C</td>\n",
              "      <td>5</td>\n",
              "      <td>2717130.00</td>\n",
              "    </tr>\n",
              "    <tr>\n",
              "      <th>2</th>\n",
              "      <td>2</td>\n",
              "      <td>Polestar</td>\n",
              "      <td>2</td>\n",
              "      <td>5</td>\n",
              "      <td>210</td>\n",
              "      <td>400</td>\n",
              "      <td>181</td>\n",
              "      <td>620</td>\n",
              "      <td>Yes</td>\n",
              "      <td>Type 2 CCS</td>\n",
              "      <td>Liftback</td>\n",
              "      <td>D</td>\n",
              "      <td>5</td>\n",
              "      <td>5111827.24</td>\n",
              "    </tr>\n",
              "    <tr>\n",
              "      <th>3</th>\n",
              "      <td>3</td>\n",
              "      <td>BMW</td>\n",
              "      <td>iX3</td>\n",
              "      <td>7</td>\n",
              "      <td>180</td>\n",
              "      <td>360</td>\n",
              "      <td>206</td>\n",
              "      <td>560</td>\n",
              "      <td>Yes</td>\n",
              "      <td>Type 2 CCS</td>\n",
              "      <td>SUV</td>\n",
              "      <td>D</td>\n",
              "      <td>5</td>\n",
              "      <td>6162450.84</td>\n",
              "    </tr>\n",
              "    <tr>\n",
              "      <th>4</th>\n",
              "      <td>4</td>\n",
              "      <td>Honda</td>\n",
              "      <td>e</td>\n",
              "      <td>10</td>\n",
              "      <td>145</td>\n",
              "      <td>170</td>\n",
              "      <td>168</td>\n",
              "      <td>190</td>\n",
              "      <td>Yes</td>\n",
              "      <td>Type 2 CCS</td>\n",
              "      <td>Hatchback</td>\n",
              "      <td>B</td>\n",
              "      <td>4</td>\n",
              "      <td>2988571.29</td>\n",
              "    </tr>\n",
              "  </tbody>\n",
              "</table>\n",
              "</div>\n",
              "      <button class=\"colab-df-convert\" onclick=\"convertToInteractive('df-ba1e0769-4f18-43cc-bd22-570ebea83ff6')\"\n",
              "              title=\"Convert this dataframe to an interactive table.\"\n",
              "              style=\"display:none;\">\n",
              "\n",
              "  <svg xmlns=\"http://www.w3.org/2000/svg\" height=\"24px\"viewBox=\"0 0 24 24\"\n",
              "       width=\"24px\">\n",
              "    <path d=\"M0 0h24v24H0V0z\" fill=\"none\"/>\n",
              "    <path d=\"M18.56 5.44l.94 2.06.94-2.06 2.06-.94-2.06-.94-.94-2.06-.94 2.06-2.06.94zm-11 1L8.5 8.5l.94-2.06 2.06-.94-2.06-.94L8.5 2.5l-.94 2.06-2.06.94zm10 10l.94 2.06.94-2.06 2.06-.94-2.06-.94-.94-2.06-.94 2.06-2.06.94z\"/><path d=\"M17.41 7.96l-1.37-1.37c-.4-.4-.92-.59-1.43-.59-.52 0-1.04.2-1.43.59L10.3 9.45l-7.72 7.72c-.78.78-.78 2.05 0 2.83L4 21.41c.39.39.9.59 1.41.59.51 0 1.02-.2 1.41-.59l7.78-7.78 2.81-2.81c.8-.78.8-2.07 0-2.86zM5.41 20L4 18.59l7.72-7.72 1.47 1.35L5.41 20z\"/>\n",
              "  </svg>\n",
              "      </button>\n",
              "\n",
              "\n",
              "\n",
              "    <div id=\"df-c5c60e81-1820-4b79-8239-0f8bded7b155\">\n",
              "      <button class=\"colab-df-quickchart\" onclick=\"quickchart('df-c5c60e81-1820-4b79-8239-0f8bded7b155')\"\n",
              "              title=\"Suggest charts.\"\n",
              "              style=\"display:none;\">\n",
              "\n",
              "<svg xmlns=\"http://www.w3.org/2000/svg\" height=\"24px\"viewBox=\"0 0 24 24\"\n",
              "     width=\"24px\">\n",
              "    <g>\n",
              "        <path d=\"M19 3H5c-1.1 0-2 .9-2 2v14c0 1.1.9 2 2 2h14c1.1 0 2-.9 2-2V5c0-1.1-.9-2-2-2zM9 17H7v-7h2v7zm4 0h-2V7h2v10zm4 0h-2v-4h2v4z\"/>\n",
              "    </g>\n",
              "</svg>\n",
              "      </button>\n",
              "    </div>\n",
              "\n",
              "<style>\n",
              "  .colab-df-quickchart {\n",
              "    background-color: #E8F0FE;\n",
              "    border: none;\n",
              "    border-radius: 50%;\n",
              "    cursor: pointer;\n",
              "    display: none;\n",
              "    fill: #1967D2;\n",
              "    height: 32px;\n",
              "    padding: 0 0 0 0;\n",
              "    width: 32px;\n",
              "  }\n",
              "\n",
              "  .colab-df-quickchart:hover {\n",
              "    background-color: #E2EBFA;\n",
              "    box-shadow: 0px 1px 2px rgba(60, 64, 67, 0.3), 0px 1px 3px 1px rgba(60, 64, 67, 0.15);\n",
              "    fill: #174EA6;\n",
              "  }\n",
              "\n",
              "  [theme=dark] .colab-df-quickchart {\n",
              "    background-color: #3B4455;\n",
              "    fill: #D2E3FC;\n",
              "  }\n",
              "\n",
              "  [theme=dark] .colab-df-quickchart:hover {\n",
              "    background-color: #434B5C;\n",
              "    box-shadow: 0px 1px 3px 1px rgba(0, 0, 0, 0.15);\n",
              "    filter: drop-shadow(0px 1px 2px rgba(0, 0, 0, 0.3));\n",
              "    fill: #FFFFFF;\n",
              "  }\n",
              "</style>\n",
              "\n",
              "    <script>\n",
              "      async function quickchart(key) {\n",
              "        const containerElement = document.querySelector('#' + key);\n",
              "        const charts = await google.colab.kernel.invokeFunction(\n",
              "            'suggestCharts', [key], {});\n",
              "      }\n",
              "    </script>\n",
              "\n",
              "      <script>\n",
              "\n",
              "function displayQuickchartButton(domScope) {\n",
              "  let quickchartButtonEl =\n",
              "    domScope.querySelector('#df-c5c60e81-1820-4b79-8239-0f8bded7b155 button.colab-df-quickchart');\n",
              "  quickchartButtonEl.style.display =\n",
              "    google.colab.kernel.accessAllowed ? 'block' : 'none';\n",
              "}\n",
              "\n",
              "        displayQuickchartButton(document);\n",
              "      </script>\n",
              "      <style>\n",
              "    .colab-df-container {\n",
              "      display:flex;\n",
              "      flex-wrap:wrap;\n",
              "      gap: 12px;\n",
              "    }\n",
              "\n",
              "    .colab-df-convert {\n",
              "      background-color: #E8F0FE;\n",
              "      border: none;\n",
              "      border-radius: 50%;\n",
              "      cursor: pointer;\n",
              "      display: none;\n",
              "      fill: #1967D2;\n",
              "      height: 32px;\n",
              "      padding: 0 0 0 0;\n",
              "      width: 32px;\n",
              "    }\n",
              "\n",
              "    .colab-df-convert:hover {\n",
              "      background-color: #E2EBFA;\n",
              "      box-shadow: 0px 1px 2px rgba(60, 64, 67, 0.3), 0px 1px 3px 1px rgba(60, 64, 67, 0.15);\n",
              "      fill: #174EA6;\n",
              "    }\n",
              "\n",
              "    [theme=dark] .colab-df-convert {\n",
              "      background-color: #3B4455;\n",
              "      fill: #D2E3FC;\n",
              "    }\n",
              "\n",
              "    [theme=dark] .colab-df-convert:hover {\n",
              "      background-color: #434B5C;\n",
              "      box-shadow: 0px 1px 3px 1px rgba(0, 0, 0, 0.15);\n",
              "      filter: drop-shadow(0px 1px 2px rgba(0, 0, 0, 0.3));\n",
              "      fill: #FFFFFF;\n",
              "    }\n",
              "  </style>\n",
              "\n",
              "      <script>\n",
              "        const buttonEl =\n",
              "          document.querySelector('#df-ba1e0769-4f18-43cc-bd22-570ebea83ff6 button.colab-df-convert');\n",
              "        buttonEl.style.display =\n",
              "          google.colab.kernel.accessAllowed ? 'block' : 'none';\n",
              "\n",
              "        async function convertToInteractive(key) {\n",
              "          const element = document.querySelector('#df-ba1e0769-4f18-43cc-bd22-570ebea83ff6');\n",
              "          const dataTable =\n",
              "            await google.colab.kernel.invokeFunction('convertToInteractive',\n",
              "                                                     [key], {});\n",
              "          if (!dataTable) return;\n",
              "\n",
              "          const docLinkHtml = 'Like what you see? Visit the ' +\n",
              "            '<a target=\"_blank\" href=https://colab.research.google.com/notebooks/data_table.ipynb>data table notebook</a>'\n",
              "            + ' to learn more about interactive tables.';\n",
              "          element.innerHTML = '';\n",
              "          dataTable['output_type'] = 'display_data';\n",
              "          await google.colab.output.renderOutput(dataTable, element);\n",
              "          const docLink = document.createElement('div');\n",
              "          docLink.innerHTML = docLinkHtml;\n",
              "          element.appendChild(docLink);\n",
              "        }\n",
              "      </script>\n",
              "    </div>\n",
              "  </div>\n"
            ]
          },
          "metadata": {},
          "execution_count": 69
        }
      ],
      "source": [
        "dataset.head(5)"
      ]
    },
    {
      "cell_type": "code",
      "execution_count": 70,
      "metadata": {
        "colab": {
          "base_uri": "https://localhost:8080/"
        },
        "id": "y6PLZOS2vejg",
        "outputId": "a4fdd0de-a487-46bf-8f98-ca3719a827ce"
      },
      "outputs": [
        {
          "output_type": "execute_result",
          "data": {
            "text/plain": [
              "Index(['Unnamed: 0', 'Brand', 'Model', 'AccelSec', 'TopSpeed_KmH', 'Range_Km',\n",
              "       'Efficiency_WhKm', 'FastCharge_KmH', 'RapidCharge', 'PlugType',\n",
              "       'BodyStyle', 'Segment', 'Seats', 'PriceRupees'],\n",
              "      dtype='object')"
            ]
          },
          "metadata": {},
          "execution_count": 70
        }
      ],
      "source": [
        "dataset.columns"
      ]
    },
    {
      "cell_type": "code",
      "execution_count": 71,
      "metadata": {
        "id": "oneqzcY_vejh"
      },
      "outputs": [],
      "source": [
        "# Initialize the LabelEncoder\n",
        "label_encoder = LabelEncoder()\n",
        "\n",
        "# Iterate through each column and apply label encoding\n",
        "for column in dataset.columns:\n",
        "    if dataset[column].dtype == 'object':  # Check if the column contains categorical data\n",
        "        dataset[column] = label_encoder.fit_transform(dataset[column])"
      ]
    },
    {
      "cell_type": "code",
      "execution_count": 72,
      "metadata": {
        "colab": {
          "base_uri": "https://localhost:8080/"
        },
        "id": "EhuY03Uevejj",
        "outputId": "7fb24cbe-92f9-4227-f00a-9fbd8c5d1482"
      },
      "outputs": [
        {
          "output_type": "stream",
          "name": "stdout",
          "text": [
            "<class 'pandas.core.frame.DataFrame'>\n",
            "RangeIndex: 103 entries, 0 to 102\n",
            "Data columns (total 14 columns):\n",
            " #   Column           Non-Null Count  Dtype  \n",
            "---  ------           --------------  -----  \n",
            " 0   Unnamed: 0       103 non-null    int64  \n",
            " 1   Brand            103 non-null    int64  \n",
            " 2   Model            103 non-null    int64  \n",
            " 3   AccelSec         103 non-null    int64  \n",
            " 4   TopSpeed_KmH     103 non-null    int64  \n",
            " 5   Range_Km         103 non-null    int64  \n",
            " 6   Efficiency_WhKm  103 non-null    int64  \n",
            " 7   FastCharge_KmH   103 non-null    int64  \n",
            " 8   RapidCharge      103 non-null    int64  \n",
            " 9   PlugType         103 non-null    int64  \n",
            " 10  BodyStyle        103 non-null    int64  \n",
            " 11  Segment          103 non-null    int64  \n",
            " 12  Seats            103 non-null    int64  \n",
            " 13  PriceRupees      103 non-null    float64\n",
            "dtypes: float64(1), int64(13)\n",
            "memory usage: 11.4 KB\n"
          ]
        }
      ],
      "source": [
        "dataset.info()"
      ]
    },
    {
      "cell_type": "code",
      "execution_count": 73,
      "metadata": {
        "id": "snlAdnfzy1RU"
      },
      "outputs": [],
      "source": [
        "n_clusters =3"
      ]
    },
    {
      "cell_type": "code",
      "execution_count": 74,
      "metadata": {
        "id": "8Qzi0dEyvejm"
      },
      "outputs": [],
      "source": [
        "def perform_kmeans_clustering(dataset, n_clusters):\n",
        "    kmeans = KMeans(n_clusters=n_clusters, random_state=0)\n",
        "    labels = kmeans.fit_predict(dataset)\n",
        "    cluster_centers = kmeans.cluster_centers_\n",
        "    return labels, cluster_centers"
      ]
    },
    {
      "cell_type": "code",
      "execution_count": 76,
      "metadata": {
        "colab": {
          "base_uri": "https://localhost:8080/"
        },
        "id": "nlhic4Uavejo",
        "outputId": "c9d350b1-c36b-4797-a629-6b8e39de085b"
      },
      "outputs": [
        {
          "output_type": "stream",
          "name": "stdout",
          "text": [
            "Cluster Labels: [0 0 0 0 0 2 0 0 0 0 0 0 0 0 0 0 2 0 0 0 0 0 0 2 0 0 0 0 0 0 0 0 0 0 0 0 0\n",
            " 0 0 0 0 0 0 0 0 0 0 2 2 0 0 2 0 0 0 0 0 0 0 2 0 1 0 0 0 2 0 0 0 0 0 0 2 0\n",
            " 0 0 0 0 0 2 0 0 0 0 0 0 0 0 0 0 2 0 0 0 0 0 0 0 0 2 0 0 0]\n",
            "Cluster Centers: [[5.04222222e+01 1.79777778e+01 4.88222222e+01 7.98888889e+00\n",
            "  1.69055556e+02 3.20055556e+02 1.87300000e+02 4.03888889e+02\n",
            "  7.22222222e-01 1.92222222e+00 3.86666667e+00 2.30000000e+00\n",
            "  4.92222222e+00 4.03438367e+06]\n",
            " [6.10000000e+01 3.00000000e+01 5.40000000e+01 4.00000000e+00\n",
            "  2.41000000e+02 4.10000000e+02 1.77000000e+02 9.00000000e+02\n",
            "  1.00000000e+00 2.00000000e+00 6.00000000e+00 3.00000000e+00\n",
            "  7.00000000e+00 5.94345016e+07]\n",
            " [5.45000000e+01 1.76666667e+01 6.59166667e+01 4.16666667e+00\n",
            "  2.50083333e+02 4.73333333e+02 2.04166667e+02 7.09166667e+02\n",
            "  9.16666667e-01 1.91666667e+00 5.50000000e+00 5.00000000e+00\n",
            "  4.41666667e+00 1.18660765e+07]]\n"
          ]
        },
        {
          "output_type": "stream",
          "name": "stderr",
          "text": [
            "/usr/local/lib/python3.10/dist-packages/sklearn/cluster/_kmeans.py:870: FutureWarning: The default value of `n_init` will change from 10 to 'auto' in 1.4. Set the value of `n_init` explicitly to suppress the warning\n",
            "  warnings.warn(\n"
          ]
        }
      ],
      "source": [
        "labels, cluster_centers = perform_kmeans_clustering(dataset, n_clusters)\n",
        "\n",
        "print(\"Cluster Labels:\", labels)\n",
        "print(\"Cluster Centers:\", cluster_centers)"
      ]
    }
  ],
  "metadata": {
    "colab": {
      "provenance": [],
      "include_colab_link": true
    },
    "kernelspec": {
      "display_name": "Python 3 (ipykernel)",
      "language": "python",
      "name": "python3"
    },
    "language_info": {
      "codemirror_mode": {
        "name": "ipython",
        "version": 3
      },
      "file_extension": ".py",
      "mimetype": "text/x-python",
      "name": "python",
      "nbconvert_exporter": "python",
      "pygments_lexer": "ipython3",
      "version": "3.9.12"
    }
  },
  "nbformat": 4,
  "nbformat_minor": 0
}